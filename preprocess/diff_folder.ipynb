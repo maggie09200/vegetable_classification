{
 "cells": [
  {
   "cell_type": "code",
   "execution_count": 1,
   "id": "939e1148",
   "metadata": {},
   "outputs": [
    {
     "name": "stdout",
     "output_type": "stream",
     "text": [
      "找到的相異資料夾：\n",
      "WaWa dishes\n",
      "cowpea\n",
      "Chinese chives\n",
      "Chrysanthemum\n",
      "Garlic sprouts\n",
      "pea\n",
      "White radish\n",
      "Agaricus lemaneiformis\n",
      "corn\n",
      "Cucumber\n"
     ]
    }
   ],
   "source": [
    "import os\n",
    "\n",
    "def compare_folders(folder_a, folder_b):\n",
    "    \"\"\"\n",
    "    比對兩個資料夾，找出只存在於第一個資料夾中的子資料夾。\n",
    "\n",
    "    Args:\n",
    "        folder_a (str): 資料夾A的路徑 (預期是量較多的資料夾).\n",
    "        folder_b (str): 資料夾B的路徑 (預期是量較少的資料夾).\n",
    "\n",
    "    Returns:\n",
    "        list: 只存在於資料夾A中的子資料夾名稱列表。\n",
    "    \"\"\"\n",
    "    try:\n",
    "        # 獲取兩個資料夾下的所有項目名稱\n",
    "        items_a = os.listdir(folder_a)\n",
    "        items_b = os.listdir(folder_b)\n",
    "\n",
    "        # 篩選出子資料夾\n",
    "        subfolders_a = {item for item in items_a if os.path.isdir(os.path.join(folder_a, item))}\n",
    "        subfolders_b = {item for item in items_b if os.path.isdir(os.path.join(folder_b, item))}\n",
    "\n",
    "        # 找出在資料夾A中但不在資料夾B中的資料夾. [1]\n",
    "        different_folders = list(subfolders_a - subfolders_b)\n",
    "\n",
    "        return different_folders\n",
    "\n",
    "    except FileNotFoundError as e:\n",
    "        return f\"錯誤：找不到指定的資料夾 - {e}\"\n",
    "    except Exception as e:\n",
    "        return f\"發生錯誤：{e}\"\n",
    "\n",
    "# --- 使用範例 ---\n",
    "# 請將 'path/to/folder_A' 和 'path/to/folder_B' 替換為您的實際路徑\n",
    "folder_A_path = 'veg_img_eng60'\n",
    "folder_B_path = 'veg_img_eng50_to60'\n",
    "\n",
    "# 執行比對\n",
    "diff_folders = compare_folders(folder_A_path, folder_B_path)\n",
    "\n",
    "# 輸出結果\n",
    "if isinstance(diff_folders, list):\n",
    "    if diff_folders:\n",
    "        print(\"找到的相異資料夾：\")\n",
    "        for folder in diff_folders:\n",
    "            print(folder)\n",
    "    else:\n",
    "        print(\"兩個資料夾中的子資料夾完全相同。\")\n",
    "else:\n",
    "    print(diff_folders) # 輸出錯誤訊息"
   ]
  },
  {
   "cell_type": "code",
   "execution_count": 2,
   "id": "f440193c",
   "metadata": {},
   "outputs": [
    {
     "data": {
      "text/plain": [
       "['WaWa dishes',\n",
       " 'cowpea',\n",
       " 'Chinese chives',\n",
       " 'Chrysanthemum',\n",
       " 'Garlic sprouts',\n",
       " 'pea',\n",
       " 'White radish',\n",
       " 'Agaricus lemaneiformis',\n",
       " 'corn',\n",
       " 'Cucumber']"
      ]
     },
     "execution_count": 2,
     "metadata": {},
     "output_type": "execute_result"
    }
   ],
   "source": [
    "diff_folders"
   ]
  },
  {
   "cell_type": "code",
   "execution_count": null,
   "id": "3d379743",
   "metadata": {},
   "outputs": [],
   "source": [
    "import os\n",
    "\n",
    "def create_missing_folders(target_folder, folders_to_create):\n",
    "    \"\"\"\n",
    "    在目標資料夾中建立指定的子資料夾。\n",
    "\n",
    "    Args:\n",
    "        target_folder (str): 要在其中建立新資料夾的目標資料夾路徑。\n",
    "        folders_to_create (list): 要建立的資料夾名稱列表。\n",
    "    \"\"\"\n",
    "    if not isinstance(folders_to_create, list) or not folders_to_create:\n",
    "        print(\"沒有需要建立的資料夾。\")\n",
    "        return\n",
    "\n",
    "    print(f\"準備在 '{target_folder}' 中建立以下資料夾：\")\n",
    "    for folder_name in folders_to_create:\n",
    "        print(f\"- {folder_name}\")\n",
    "\n",
    "    for folder_name in folders_to_create:\n",
    "        try:\n",
    "            # 組合出完整的路徑\n",
    "            full_path = os.path.join(target_folder, folder_name)\n",
    "\n",
    "            # 建立資料夾，exist_ok=True 可以在資料夾已存在時避免錯誤. [6, 8]\n",
    "            os.makedirs(full_path, exist_ok=True)\n",
    "            print(f\"成功建立資料夾：'{full_path}'\")\n",
    "        except OSError as e:\n",
    "            print(f\"建立資料夾 '{folder_name}' 時發生錯誤：{e}\")\n",
    "\n",
    "# --- 使用範例 ---\n",
    "# 假設我們已經從第一個程式得到了 diff_folders\n",
    "# 為了演示，我們先手動定義一個列表\n",
    "# 在實際使用時，您應該直接使用第一個程式的 diff_folders 變數\n",
    "# diff_folders = ['c', 'd']  # 這是範例，假設 'c' 和 'd' 是相異的資料夾\n",
    "\n",
    "# 請確認 'path/to/folder_B' 是您要新增資料夾的正確路徑\n",
    "folder_B_path_to_create_in = 'veg_img_eng50_to60'\n",
    "\n",
    "# 執行建立資料夾的程式\n",
    "# 我們會檢查 diff_folders 是否為一個非空的列表\n",
    "if isinstance(diff_folders, list) and diff_folders:\n",
    "    create_missing_folders(folder_B_path_to_create_in, diff_folders)\n",
    "elif isinstance(diff_folders, str):\n",
    "    print(f\"無法執行建立資料夾的程式，因為比對時發生錯誤：{diff_folders}\")"
   ]
  }
 ],
 "metadata": {
  "kernelspec": {
   "display_name": "Python 3",
   "language": "python",
   "name": "python3"
  },
  "language_info": {
   "codemirror_mode": {
    "name": "ipython",
    "version": 3
   },
   "file_extension": ".py",
   "mimetype": "text/x-python",
   "name": "python",
   "nbconvert_exporter": "python",
   "pygments_lexer": "ipython3",
   "version": "3.12.3"
  }
 },
 "nbformat": 4,
 "nbformat_minor": 5
}
