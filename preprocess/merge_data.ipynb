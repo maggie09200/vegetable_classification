{
 "cells": [
  {
   "cell_type": "code",
   "execution_count": 1,
   "id": "5f5d2f72",
   "metadata": {},
   "outputs": [
    {
     "name": "stdout",
     "output_type": "stream",
     "text": [
      "已建立目標資料夾: ../merged_data\n",
      "正在處理來源資料夾: ../dataset_full_en_aug3_copy/train...\n",
      "正在處理來源資料夾: ../dataset_full_en_aug3_copy/test...\n",
      "正在處理來源資料夾: ../dataset_full_en_aug3_copy/validation...\n",
      "\n",
      "所有資料夾合併完成！\n",
      "合併後的資料夾位於: ../merged_data\n"
     ]
    }
   ],
   "source": [
    "import os\n",
    "import shutil\n",
    "\n",
    "# --- 設定 ---\n",
    "# 來源資料夾列表\n",
    "source_folders = ['../dataset_full_en_aug3_copy/train', '../dataset_full_en_aug3_copy/test', '../dataset_full_en_aug3_copy/validation']\n",
    "\n",
    "# 合併後要存放的目標資料夾名稱\n",
    "destination_folder = '../merged_data'\n",
    "# --- 設定結束 ---\n",
    "\n",
    "# 建立目標資料夾，如果不存在的話\n",
    "if not os.path.exists(destination_folder):\n",
    "    os.makedirs(destination_folder)\n",
    "    print(f\"已建立目標資料夾: {destination_folder}\")\n",
    "\n",
    "# 遍歷所有來源資料夾 (train, test, validation)\n",
    "for source_folder in source_folders:\n",
    "    # 檢查來源資料夾是否存在\n",
    "    if not os.path.exists(source_folder):\n",
    "        print(f\"警告：找不到來源資料夾 '{source_folder}'，將會跳過。\")\n",
    "        continue\n",
    "\n",
    "    print(f\"正在處理來源資料夾: {source_folder}...\")\n",
    "\n",
    "    # 遍歷來源資料夾中的子資料夾 (A, B, C...)\n",
    "    for subfolder_name in os.listdir(source_folder):\n",
    "        source_subfolder_path = os.path.join(source_folder, subfolder_name)\n",
    "\n",
    "        # 確保這是一個資料夾而不是檔案\n",
    "        if os.path.isdir(source_subfolder_path):\n",
    "            destination_subfolder_path = os.path.join(destination_folder, subfolder_name)\n",
    "\n",
    "            # 在目標資料夾中建立對應的子資料夾\n",
    "            if not os.path.exists(destination_subfolder_path):\n",
    "                os.makedirs(destination_subfolder_path)\n",
    "\n",
    "            # 遍歷子資料夾中的所有檔案\n",
    "            for filename in os.listdir(source_subfolder_path):\n",
    "                source_file_path = os.path.join(source_subfolder_path, filename)\n",
    "                destination_file_path = os.path.join(destination_subfolder_path, filename)\n",
    "\n",
    "                # 複製檔案到目標位置\n",
    "                # 使用 shutil.copy2 可以保留檔案的中繼資料 (metadata)\n",
    "                shutil.copy2(source_file_path, destination_file_path)\n",
    "\n",
    "print(\"\\n所有資料夾合併完成！\")\n",
    "print(f\"合併後的資料夾位於: {destination_folder}\")"
   ]
  }
 ],
 "metadata": {
  "kernelspec": {
   "display_name": "Python 3",
   "language": "python",
   "name": "python3"
  },
  "language_info": {
   "codemirror_mode": {
    "name": "ipython",
    "version": 3
   },
   "file_extension": ".py",
   "mimetype": "text/x-python",
   "name": "python",
   "nbconvert_exporter": "python",
   "pygments_lexer": "ipython3",
   "version": "3.12.3"
  }
 },
 "nbformat": 4,
 "nbformat_minor": 5
}
