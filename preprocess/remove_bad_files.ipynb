{
 "cells": [
  {
   "cell_type": "code",
   "execution_count": 1,
   "id": "cbbab7fd",
   "metadata": {},
   "outputs": [
    {
     "name": "stdout",
     "output_type": "stream",
     "text": [
      "壞圖數量: 0\n"
     ]
    }
   ],
   "source": [
    "import os\n",
    "import tensorflow as tf\n",
    "\n",
    "def check_images(data_dir):\n",
    "    corrupted_files = []\n",
    "    for root, dirs, files in os.walk(data_dir):\n",
    "        for fname in files:\n",
    "            fpath = os.path.join(root, fname)\n",
    "            try:\n",
    "                image = tf.io.read_file(fpath)\n",
    "                tf.io.decode_image(image)\n",
    "            except:\n",
    "                corrupted_files.append(fpath)\n",
    "    return corrupted_files\n",
    "\n",
    "bad_files = check_images(\"veg_img_eng\")\n",
    "print(\"壞圖數量:\", len(bad_files))\n",
    "for f in bad_files:\n",
    "    print(f)"
   ]
  },
  {
   "cell_type": "code",
   "execution_count": 5,
   "id": "fbce727c",
   "metadata": {},
   "outputs": [],
   "source": [
    "for f in bad_files:\n",
    "    os.remove(f)"
   ]
  }
 ],
 "metadata": {
  "kernelspec": {
   "display_name": "Python 3",
   "language": "python",
   "name": "python3"
  },
  "language_info": {
   "codemirror_mode": {
    "name": "ipython",
    "version": 3
   },
   "file_extension": ".py",
   "mimetype": "text/x-python",
   "name": "python",
   "nbconvert_exporter": "python",
   "pygments_lexer": "ipython3",
   "version": "3.12.3"
  }
 },
 "nbformat": 4,
 "nbformat_minor": 5
}
