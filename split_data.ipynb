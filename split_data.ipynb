{
 "cells": [
  {
   "cell_type": "code",
   "execution_count": 2,
   "id": "f9a5d57f",
   "metadata": {},
   "outputs": [
    {
     "name": "stdout",
     "output_type": "stream",
     "text": [
      "類別 [asparagus] 分配完成：Train=599, Val=171, Test=87\n",
      "類別 [Baby Corn] 分配完成：Train=522, Val=149, Test=76\n",
      "類別 [Beef Tomato] 分配完成：Train=334, Val=95, Test=49\n",
      "類別 [chili] 分配完成：Train=300, Val=85, Test=44\n",
      "類別 [Chinese chives] 分配完成：Train=251, Val=71, Test=37\n",
      "類別 [coriander] 分配完成：Train=384, Val=109, Test=56\n",
      "類別 [French beans] 分配完成：Train=454, Val=130, Test=66\n",
      "類別 [Garlic sprouts] 分配完成：Train=175, Val=50, Test=25\n",
      "類別 [Green bamboo shoots] 分配完成：Train=289, Val=82, Test=42\n",
      "類別 [Okra] 分配完成：Train=732, Val=209, Test=105\n",
      "類別 [onion] 分配完成：Train=211, Val=60, Test=31\n",
      "類別 [pumpkin] 分配完成：Train=347, Val=99, Test=50\n",
      "類別 [Shallots] 分配完成：Train=361, Val=103, Test=53\n",
      "類別 [sweet potato] 分配完成：Train=270, Val=77, Test=39\n",
      "類別 [Sweet potato leaves] 分配完成：Train=305, Val=87, Test=44\n",
      "類別 [Water Lily] 分配完成：Train=93, Val=26, Test=15\n",
      "類別 [White radish] 分配完成：Train=683, Val=195, Test=99\n",
      "類別 [Winter melon] 分配完成：Train=190, Val=54, Test=28\n",
      "類別 [zucchini] 分配完成：Train=326, Val=93, Test=47\n"
     ]
    }
   ],
   "source": [
    "import os\n",
    "import shutil\n",
    "import random\n",
    "\n",
    "def split_dataset_by_class(input_dir, output_dir, train_ratio=0.7, val_ratio=0.2, test_ratio=0.1):\n",
    "    # assert train_ratio + val_ratio + test_ratio == 1.0, \"比例總和必須為 1\"\n",
    "\n",
    "    # 對每個類別資料夾進行處理\n",
    "    for class_name in os.listdir(input_dir):\n",
    "        class_path = os.path.join(input_dir, class_name)\n",
    "        if not os.path.isdir(class_path):\n",
    "            continue  # 跳過非資料夾\n",
    "\n",
    "        # 收集該類別的所有圖片\n",
    "        images = [f for f in os.listdir(class_path) if f.lower().endswith(('.jpg', '.jpeg', '.png'))]\n",
    "        random.shuffle(images)\n",
    "\n",
    "        total = len(images)\n",
    "        train_end = int(total * train_ratio)\n",
    "        val_end = train_end + int(total * val_ratio)\n",
    "\n",
    "        train_files = images[:train_end]\n",
    "        val_files = images[train_end:val_end]\n",
    "        test_files = images[val_end:]\n",
    "\n",
    "        # 複製到各目的資料夾，保持類別結構\n",
    "        for file_list, split in [(train_files, 'train'), (val_files, 'validation'), (test_files, 'test')]:\n",
    "            split_class_dir = os.path.join(output_dir, split, class_name)\n",
    "            os.makedirs(split_class_dir, exist_ok=True)\n",
    "            for filename in file_list:\n",
    "                src = os.path.join(class_path, filename)\n",
    "                dst = os.path.join(split_class_dir, filename)\n",
    "                shutil.copy(src, dst)\n",
    "\n",
    "        print(f\"類別 [{class_name}] 分配完成：Train={len(train_files)}, Val={len(val_files)}, Test={len(test_files)}\")\n",
    "\n",
    "# 🧪 使用範例\n",
    "input_folder = 'done_image'       # 你的原始資料夾\n",
    "output_folder = 'dataset_19'       # 要儲存分好類別的資料夾\n",
    "\n",
    "split_dataset_by_class(input_folder, output_folder)\n"
   ]
  }
 ],
 "metadata": {
  "kernelspec": {
   "display_name": "Python 3",
   "language": "python",
   "name": "python3"
  },
  "language_info": {
   "codemirror_mode": {
    "name": "ipython",
    "version": 3
   },
   "file_extension": ".py",
   "mimetype": "text/x-python",
   "name": "python",
   "nbconvert_exporter": "python",
   "pygments_lexer": "ipython3",
   "version": "3.12.3"
  }
 },
 "nbformat": 4,
 "nbformat_minor": 5
}
